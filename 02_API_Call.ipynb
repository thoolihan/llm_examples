{
 "cells": [
  {
   "cell_type": "code",
   "execution_count": 25,
   "id": "e93cad64-12e3-41ca-922a-5b348d738269",
   "metadata": {},
   "outputs": [],
   "source": [
    "import os\n",
    "import pandas as pd\n",
    "import numpy as np\n",
    "import openai\n",
    "\n",
    "API_KEY_ENV = \"OPENAI_API_KEY\"\n",
    "MODEL = 'gpt-3.5-turbo'\n",
    "\n",
    "openai.api_key = os.getenv(API_KEY_ENV)\n",
    "\n",
    "\n"
   ]
  },
  {
   "cell_type": "code",
   "execution_count": 21,
   "id": "0fdbfc63-8e58-443b-ad76-610249b2b42e",
   "metadata": {},
   "outputs": [
    {
     "data": {
      "text/html": [
       "<div>\n",
       "<style scoped>\n",
       "    .dataframe tbody tr th:only-of-type {\n",
       "        vertical-align: middle;\n",
       "    }\n",
       "\n",
       "    .dataframe tbody tr th {\n",
       "        vertical-align: top;\n",
       "    }\n",
       "\n",
       "    .dataframe thead th {\n",
       "        text-align: right;\n",
       "    }\n",
       "</style>\n",
       "<table border=\"1\" class=\"dataframe\">\n",
       "  <thead>\n",
       "    <tr style=\"text-align: right;\">\n",
       "      <th></th>\n",
       "      <th>Release Year</th>\n",
       "      <th>Title</th>\n",
       "      <th>Origin/Ethnicity</th>\n",
       "      <th>Director</th>\n",
       "      <th>Cast</th>\n",
       "      <th>Genre</th>\n",
       "      <th>Plot</th>\n",
       "      <th>plot_length</th>\n",
       "    </tr>\n",
       "  </thead>\n",
       "  <tbody>\n",
       "    <tr>\n",
       "      <th>26064</th>\n",
       "      <td>2000</td>\n",
       "      <td>The Prince of Light</td>\n",
       "      <td>Bollywood</td>\n",
       "      <td>Yugo Sako</td>\n",
       "      <td>Bryan Cranston, Edie Mirman, Tom Wyner, Richar...</td>\n",
       "      <td>unknown</td>\n",
       "      <td>After a brief introduction to some of the main...</td>\n",
       "      <td>36773</td>\n",
       "    </tr>\n",
       "    <tr>\n",
       "      <th>33198</th>\n",
       "      <td>1992</td>\n",
       "      <td>Ramayana: The Legend of Prince Rama</td>\n",
       "      <td>Japanese</td>\n",
       "      <td>Yugo Sako</td>\n",
       "      <td>&lt;NA&gt;</td>\n",
       "      <td>unknown</td>\n",
       "      <td>After a brief introduction to some of the main...</td>\n",
       "      <td>36773</td>\n",
       "    </tr>\n",
       "    <tr>\n",
       "      <th>34078</th>\n",
       "      <td>2002</td>\n",
       "      <td>Brigada</td>\n",
       "      <td>Russian</td>\n",
       "      <td>Aleksei Sidorov</td>\n",
       "      <td>Sergey Bezrukov, Dmitri Dyuzhev, Vladimir Vdov...</td>\n",
       "      <td>crime</td>\n",
       "      <td>The film proceeds in chronological order, apar...</td>\n",
       "      <td>29916</td>\n",
       "    </tr>\n",
       "    <tr>\n",
       "      <th>26414</th>\n",
       "      <td>2007</td>\n",
       "      <td>1971</td>\n",
       "      <td>Bollywood</td>\n",
       "      <td>Amrit Sagar</td>\n",
       "      <td>Manoj Bajpai, Ravi Kishan</td>\n",
       "      <td>war</td>\n",
       "      <td>The story takes place in Pakistan in 1977, six...</td>\n",
       "      <td>29442</td>\n",
       "    </tr>\n",
       "    <tr>\n",
       "      <th>34606</th>\n",
       "      <td>2013</td>\n",
       "      <td>The Flu</td>\n",
       "      <td>South_Korean</td>\n",
       "      <td>Kim Sung-su</td>\n",
       "      <td>Soo Ae, Jang Hyuk</td>\n",
       "      <td>unknown</td>\n",
       "      <td>The opening scene shows a group of illegal imm...</td>\n",
       "      <td>27831</td>\n",
       "    </tr>\n",
       "  </tbody>\n",
       "</table>\n",
       "</div>"
      ],
      "text/plain": [
       "       Release Year                                Title Origin/Ethnicity  \\\n",
       "26064          2000                  The Prince of Light        Bollywood   \n",
       "33198          1992  Ramayana: The Legend of Prince Rama         Japanese   \n",
       "34078          2002                              Brigada          Russian   \n",
       "26414          2007                                 1971        Bollywood   \n",
       "34606          2013                              The Flu     South_Korean   \n",
       "\n",
       "              Director                                               Cast  \\\n",
       "26064        Yugo Sako  Bryan Cranston, Edie Mirman, Tom Wyner, Richar...   \n",
       "33198        Yugo Sako                                               <NA>   \n",
       "34078  Aleksei Sidorov  Sergey Bezrukov, Dmitri Dyuzhev, Vladimir Vdov...   \n",
       "26414      Amrit Sagar                          Manoj Bajpai, Ravi Kishan   \n",
       "34606      Kim Sung-su                                  Soo Ae, Jang Hyuk   \n",
       "\n",
       "         Genre                                               Plot  plot_length  \n",
       "26064  unknown  After a brief introduction to some of the main...        36773  \n",
       "33198  unknown  After a brief introduction to some of the main...        36773  \n",
       "34078    crime  The film proceeds in chronological order, apar...        29916  \n",
       "26414      war  The story takes place in Pakistan in 1977, six...        29442  \n",
       "34606  unknown  The opening scene shows a group of illegal imm...        27831  "
      ]
     },
     "execution_count": 21,
     "metadata": {},
     "output_type": "execute_result"
    }
   ],
   "source": [
    "file = os.path.join(\"data\", \"wiki_movie_plots_deduped.csv\")\n",
    "types = {\n",
    "    'Release Year': 'int',\n",
    "    'Title': 'string',\n",
    "    'Origin/Ethnicity': 'string',\n",
    "    'Director': 'string',\n",
    "    'Cast': 'string',\n",
    "    'Genre': 'string',\n",
    "    'Plot': 'string'\n",
    "}\n",
    "df = pd.read_csv(file, dtype=types) \\\n",
    "    .drop('Wiki Page', axis='columns', inplace=False) \n",
    "\n",
    "df['plot_length'] = df['Plot'].apply(len)\n",
    "df = df.sort_values(by = ['plot_length', 'Release Year'], ascending = False)\n",
    "df.head()"
   ]
  },
  {
   "cell_type": "code",
   "execution_count": 30,
   "id": "29a80b94-4b15-49d9-bda5-58e2cfc5821a",
   "metadata": {},
   "outputs": [
    {
     "data": {
      "text/plain": [
       "\"It's a prequel story to the main events of the first season.\""
      ]
     },
     "execution_count": 30,
     "metadata": {},
     "output_type": "execute_result"
    }
   ],
   "source": [
    "plot1 = df.loc[df.index[-100], 'Plot']\n",
    "plot1"
   ]
  },
  {
   "cell_type": "code",
   "execution_count": 28,
   "id": "b8d1f3bf-8dc8-4d8f-b0ed-3ed047f62158",
   "metadata": {},
   "outputs": [],
   "source": [
    "result = openai.ChatCompletion.create(model = MODEL, messages = [{'role':'user', 'content': \"summarize the following movie plot in a couple of sentences: {}\".format(plot1)}])"
   ]
  },
  {
   "cell_type": "code",
   "execution_count": 29,
   "id": "d213e9a3-c27a-48f5-ac13-96c20cd6bc5b",
   "metadata": {},
   "outputs": [
    {
     "name": "stdout",
     "output_type": "stream",
     "text": [
      "Wikipedia plot\n",
      "============\n",
      "Rei Kiriyama is a 17 year old professional shōgi player and is the fifth person to become a professional in middle school. Rei was orphaned at a young age when his parents and sister were killed in a car accident, but is taken in by his father's best friend – Masachika Kōda, a professional shōgi player – when he realizes Rei's talent for shōgi. Rei and Masachika's children – Kyoko and Ayamu – fail to get along at all when Kōda begin's to show more favor for Rei, with Kyoko becoming particularly antagonistic towards the young Rei. After his adoptive father forces his children to stop playing shōgi when they are unable to defeat Rei, he decides to live independently, hoping that his absence might lessen the stress on the family brought on by his presence. He begins living alone in a single-room apartment in Rokugatsu-chō and stops going to school, only to start going to high school after a year delay.\n",
      "When Rei defeats his adoptive father in shōgi in a professional match, he goes into a panic out of guilt, and ends up collapsing in the street when he accidentally gets drunk. He is discovered by the kindly Akari Kawamoto, who welcomes him into her home to re-cooperate. Waking up in the Kawamoto home in Sangatsu-chō and meets Akari's two sisters: Hinata and Momo Kawamoto, who are under the care of Akari, their grandfather and their aunt following the sister's mother's death. Rei begins spending time with the Kawamotos, practically becoming a member of the family and they even spend New Years together.\n",
      "When spending the holidays with the Kawamotos, Rei runs into Kyoko and her boyfriend, middle aged professional shōgi player, Masamune Gotō. When Rei expresses his disgust with his adoptive sister's relationship with the older, married man, Gotō beats down a furious Rei. Rei then forces Gotō to agree to break off his relationship with Kyoko if he can defeat the elder shōgi player in the finals of Lion King shōgi tournament. Rei begins solely focusing on shōgi. When he faces off against Kai Shimada in the semi-finals, Rei completely underestimates his opponent, and loses the match in shame. Still reeling from the loss, Rei runs into Kyoko again, who believes that he told their father about her relationship with Gotō due to her being cut off financially. They are interrupted by the Kawamoto sisters, who had been coming to deliver a large box lunch to Rei. Kyoko spends the night at Rei's place but leaves the following morning, with Rei realizing that his relationship with his sister has left them in a state where they can never truly be siblings or strangers. Shimada faces off against Gotō in the Lion King final match, fighting for the chance to face off against Tōji Sōya, the reigning Meijin who has retained the position for over a decade. When Shimada emerges as victor against Gotō, Rei approaches the exhausted pro and asks to join Shimada's shōgi study group in hopes of bettering himself. Shimada accepts.\n",
      "Rei begins making his way through the Newcomer shōgi tournament, with his rival and close friend, Harunobu Nikaidō excitedly pushing Rei along so the two might be able to face off against each other in the finals. However, Rei is shocked when he discovered that not only had Nikaidō had been eliminated, he had been hospitalized, due to a life long condition that leaves him constantly unwell. Rei realizes that Nikaidō's opponent, Junkei Yamazaki knew of Nikaidō's condition and stalled out the game as much as possible to exhaust Nikaidō and instigate a win by default. Rei faces off against Yamazaki in the Newcomer finals, ready to avenge his friend. However, as Rei is about to make a rash aggressive move instead of defending and improving his position on the board, he suddenly remembers Nikaidō's passionate words of advice to cherish his shogi more, and elects to take the safer option. Rei realizes that the reason Yamazaki played dirty was out of desperation to win, similar to Rei's own desperation to defeat Gotō in the Lion King tournament. With that, Rei emerges as victor and becomes the Newcomer King. Kyoko congratulates Rei on his victory.\n",
      "After the conclusion of the Newcomer Tournament, Rei accompanies Shimada as he plays against Sōya. As the match plays out heavily in Soya's favor, Rei, who is acting as board commentator on the match, desperately insists that game could still be won by Shimada, only to be dismissed by Gotō. Seeing an unnoticed move that Shimada could have taken to turn the game completely around, Rei runs to Shimada, only realize that Shimada had already resigned. Sōya remarks that Shimada has unfortunately missed a potential move that would have turned the tide on the game, the very same move that Rei had noticed. As Sōya makes his exit, he turns towards an awestruck Rei and goes off in the rain.\n",
      "After his victory in the Newcomer tournament, Rei is asked to have a commemorative shōgi match against Tōji Sōya as a marketing ploy, as both of them are professional shōgi players who made their start in middle school, and that since Rei have become the Newcomer champion like Soya did, people had begun to expect Rei to become Meijin himself one day. Despite the gap of their skill level, Rei plays the game with the intention of winning, and finds himself entranced in the joy of playing with a powerful opponent. Rei also learns of Sōya's secret, that he is completely deaf for unknown reasons – a fact only known to the people who have faced him in sh\n",
      "Meanwhile, Akari begins to worry as Hinata becomes increasingly depressed. One day, Hina returns from school in tears with a shoe missing and covered in dirt. Hina reveals that a friend of hers was being bullied at school, and in defending her friend, she became a target as well. Hina admits privately to Rei that while she was scared that she might become a target if she intervened, and even though no one – not even her teacher – helped her, she insists that she does not regret defending her friend and what she did was absolutely not wrong. Rei, who had spent his childhood isolated and bullied, is deeply touched by Hina's words. Feeling as though Hina saved him, Rei thanks Hina and promises to stay by her side. Rei initially tries to save up prize money from his shogi games help Hina, but when his teacher points out that the Kawamotos would never accept the money, he simply tries to be emotionally supportive of Hina instead. The bullying eventually comes to a head when Hina's homeroom teacher has a breakdown over the bullying, drawing the rest of the school's attention to the bullying and finally putting a stop to it. Rei apologizes for being ultimately unable to help Hina, but Hina insists that simply being on her side and listening to her was enough and thanks him.\n",
      "The Kawamoto sisters are then visited by their long-absent father, Seijirō; who had left the sister's mother when he had a child with another woman. When he says he wants part of the family again, Rei is asked by Akari to help, who uncovers that Seijirō had been fired from his job and is being forced to leave his work-provided apartment, suggesting that he is only asking the Kawamoto sisters to join his new family out of desperation. Seijirō insists that Rei is not relevant to the discussion as he is not a member of the family, to which Rei responds with claiming that he has every intention of marrying Hinata at some point in the future, which shocks Hina. When Seijirō goes to pick up Momo from nursery school without telling the family, Rei snaps at Seijirō, but over steps his bounds and alienates the Kawamotos in the process. In despair, Rei once again fully dedicates himself to shōgi, with plans to once again drop out of school.\n",
      "The Kawamoto sisters appear to give their father the benefit of the doubt, agreeing to his offer to spend the day at an amusement part. However, they ultimately decide that they do not want him to be part of the family and elect to cut him out of their lives permanently after having one last fond memory with him.\n",
      "During a match, it is revealed to Masamune Gotō that his wife, who has been in a coma for several years, had passed away. Although heartbroken, Gotō ultimately realizes that with his wife gone, he's become better at shōgi now that he's not worried about her anymore. To that end, he breaks up with Kyoko so he can further put his focus on shōgi. Kyoko returns to the Kōda home in a drunken stupor, angrily asking her father how he can dedicate himself to the sport that had ruined their family. The following morning, Mr. Kōda speaks to Kyoko about the time she hit Rei after losing to him at shōgi. He shows her that if she had looked closer, she could have turned the game around to her favor, but since she didn't believe in herself, she failed to see the opportunity. He promises to Kyoko that no matter what she chooses in life, he will always support her.\n",
      "Rei and Gotō face off against each other in the Lion King final, and play a very close match. Rei, still heartbroken over the schism he caused with Kawamotos, appears to have a breakdown while playing against Gotō. As the game continues, he breaks into tears. Gotō chides the younger pro for acting indecently while playing shōgi, before admitting defeat to Rei. As the journalists come to interview Rei, Rei runs past them to the Kawamoto home. At the door, he apologizes to Hina and the other two sisters for hurting them while trying to defend them, admitting that in the end, he was completely terrified of losing them. The sisters ultimately forgive him and invite him in for dinner. Meanwhile, Kyoko meets up with Gotō, teasing him over his loss before joining him at his side once again.\n",
      "As the winner of that year's Lion King tournament, Rei is given the opportunity to face off against Tōji Sōya in a title match for meijin. The movie ends with two sitting down and beginning their match.\n",
      "\n",
      "LLM Summary\n",
      "============\n",
      "Rei Kiriyama, a talented shōgi player, is haunted by his tragic past and struggles to find his place in the world. He is taken in by the Kawamoto family, who provide him with the love and support he needs to overcome his personal demons. Through shōgi tournaments and encounters with various characters, Rei learns valuable life lessons and finds a sense of belonging within the Kawamoto family. The movie ends with Rei facing off against Tōji Sōya in a title match for meijin.\n"
     ]
    }
   ],
   "source": [
    "print(\"Wikipedia plot\\n============\\n{}\\n\\nLLM Summary\\n============\\n{}\".format(plot1, result.choices[0].message.content))"
   ]
  },
  {
   "cell_type": "code",
   "execution_count": null,
   "id": "4c603550-3184-4fce-826d-55501d795e0d",
   "metadata": {},
   "outputs": [],
   "source": []
  }
 ],
 "metadata": {
  "kernelspec": {
   "display_name": "Python 3 (ipykernel)",
   "language": "python",
   "name": "python3"
  },
  "language_info": {
   "codemirror_mode": {
    "name": "ipython",
    "version": 3
   },
   "file_extension": ".py",
   "mimetype": "text/x-python",
   "name": "python",
   "nbconvert_exporter": "python",
   "pygments_lexer": "ipython3",
   "version": "3.9.6"
  }
 },
 "nbformat": 4,
 "nbformat_minor": 5
}
