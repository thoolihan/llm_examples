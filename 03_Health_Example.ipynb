{
 "cells": [
  {
   "cell_type": "code",
   "execution_count": 35,
   "id": "e93cad64-12e3-41ca-922a-5b348d738269",
   "metadata": {},
   "outputs": [],
   "source": [
    "import os\n",
    "import pandas as pd\n",
    "import numpy as np\n",
    "import openai\n",
    "import tiktoken\n",
    "\n",
    "API_KEY_ENV = \"LLM_DEMO_KEY\"\n",
    "API_ORG_ENV = \"CENTRIC_OPENAI_ORG\"\n",
    "MODEL = 'gpt-3.5-turbo'\n",
    "pd.set_option('display.max_colwidth', None)\n",
    "\n",
    "openai.api_key = os.getenv(API_KEY_ENV)\n",
    "openai.organization = os.getenv(API_ORG_ENV)\n",
    "encoding = tiktoken.encoding_for_model(MODEL)"
   ]
  },
  {
   "cell_type": "code",
   "execution_count": 36,
   "id": "c39563c6-d026-4a8a-bbe4-c49c4fe98db6",
   "metadata": {},
   "outputs": [
    {
     "data": {
      "text/plain": [
       "(1200, 2)"
      ]
     },
     "execution_count": 36,
     "metadata": {},
     "output_type": "execute_result"
    }
   ],
   "source": [
    "file = os.path.join(\"data\", \"symptom_data.csv\")\n",
    "types = {\n",
    "    'label': 'string',\n",
    "    'text': 'string'\n",
    "}\n",
    "df = pd.read_csv(file, index_col = 0, dtype=types)\n",
    "df.shape"
   ]
  },
  {
   "cell_type": "code",
   "execution_count": 37,
   "id": "4b785a2d-7933-42ba-b312-befae46b48b6",
   "metadata": {},
   "outputs": [
    {
     "data": {
      "text/html": [
       "<div>\n",
       "<style scoped>\n",
       "    .dataframe tbody tr th:only-of-type {\n",
       "        vertical-align: middle;\n",
       "    }\n",
       "\n",
       "    .dataframe tbody tr th {\n",
       "        vertical-align: top;\n",
       "    }\n",
       "\n",
       "    .dataframe thead th {\n",
       "        text-align: right;\n",
       "    }\n",
       "</style>\n",
       "<table border=\"1\" class=\"dataframe\">\n",
       "  <thead>\n",
       "    <tr style=\"text-align: right;\">\n",
       "      <th></th>\n",
       "      <th>label</th>\n",
       "      <th>text</th>\n",
       "    </tr>\n",
       "  </thead>\n",
       "  <tbody>\n",
       "    <tr>\n",
       "      <th>0</th>\n",
       "      <td>Psoriasis</td>\n",
       "      <td>I have been experiencing a skin rash on my arms, legs, and torso for the past few weeks. It is red, itchy, and covered in dry, scaly patches.</td>\n",
       "    </tr>\n",
       "    <tr>\n",
       "      <th>1</th>\n",
       "      <td>Psoriasis</td>\n",
       "      <td>My skin has been peeling, especially on my knees, elbows, and scalp. This peeling is often accompanied by a burning or stinging sensation.</td>\n",
       "    </tr>\n",
       "    <tr>\n",
       "      <th>2</th>\n",
       "      <td>Psoriasis</td>\n",
       "      <td>I have been experiencing joint pain in my fingers, wrists, and knees. The pain is often achy and throbbing, and it gets worse when I move my joints.</td>\n",
       "    </tr>\n",
       "    <tr>\n",
       "      <th>3</th>\n",
       "      <td>Psoriasis</td>\n",
       "      <td>There is a silver like dusting on my skin, especially on my lower back and scalp. This dusting is made up of small scales that flake off easily when I scratch them.</td>\n",
       "    </tr>\n",
       "    <tr>\n",
       "      <th>4</th>\n",
       "      <td>Psoriasis</td>\n",
       "      <td>My nails have small dents or pits in them, and they often feel inflammatory and tender to the touch. Even there are minor rashes on my arms.</td>\n",
       "    </tr>\n",
       "  </tbody>\n",
       "</table>\n",
       "</div>"
      ],
      "text/plain": [
       "       label  \\\n",
       "0  Psoriasis   \n",
       "1  Psoriasis   \n",
       "2  Psoriasis   \n",
       "3  Psoriasis   \n",
       "4  Psoriasis   \n",
       "\n",
       "                                                                                                                                                                   text  \n",
       "0                         I have been experiencing a skin rash on my arms, legs, and torso for the past few weeks. It is red, itchy, and covered in dry, scaly patches.  \n",
       "1                            My skin has been peeling, especially on my knees, elbows, and scalp. This peeling is often accompanied by a burning or stinging sensation.  \n",
       "2                  I have been experiencing joint pain in my fingers, wrists, and knees. The pain is often achy and throbbing, and it gets worse when I move my joints.  \n",
       "3  There is a silver like dusting on my skin, especially on my lower back and scalp. This dusting is made up of small scales that flake off easily when I scratch them.  \n",
       "4                          My nails have small dents or pits in them, and they often feel inflammatory and tender to the touch. Even there are minor rashes on my arms.  "
      ]
     },
     "execution_count": 37,
     "metadata": {},
     "output_type": "execute_result"
    }
   ],
   "source": [
    "df.head()"
   ]
  },
  {
   "cell_type": "code",
   "execution_count": 38,
   "id": "d2ca1629-e281-4215-b37e-6d0c1b7fce59",
   "metadata": {},
   "outputs": [
    {
     "data": {
      "text/html": [
       "<div>\n",
       "<style scoped>\n",
       "    .dataframe tbody tr th:only-of-type {\n",
       "        vertical-align: middle;\n",
       "    }\n",
       "\n",
       "    .dataframe tbody tr th {\n",
       "        vertical-align: top;\n",
       "    }\n",
       "\n",
       "    .dataframe thead th {\n",
       "        text-align: right;\n",
       "    }\n",
       "</style>\n",
       "<table border=\"1\" class=\"dataframe\">\n",
       "  <thead>\n",
       "    <tr style=\"text-align: right;\">\n",
       "      <th></th>\n",
       "      <th>label</th>\n",
       "      <th>text</th>\n",
       "      <th>text_characters</th>\n",
       "      <th>text_token_count</th>\n",
       "    </tr>\n",
       "  </thead>\n",
       "  <tbody>\n",
       "    <tr>\n",
       "      <th>0</th>\n",
       "      <td>Psoriasis</td>\n",
       "      <td>I have been experiencing a skin rash on my arms, legs, and torso for the past few weeks. It is red, itchy, and covered in dry, scaly patches.</td>\n",
       "      <td>141</td>\n",
       "      <td>37</td>\n",
       "    </tr>\n",
       "    <tr>\n",
       "      <th>1</th>\n",
       "      <td>Psoriasis</td>\n",
       "      <td>My skin has been peeling, especially on my knees, elbows, and scalp. This peeling is often accompanied by a burning or stinging sensation.</td>\n",
       "      <td>138</td>\n",
       "      <td>31</td>\n",
       "    </tr>\n",
       "    <tr>\n",
       "      <th>2</th>\n",
       "      <td>Psoriasis</td>\n",
       "      <td>I have been experiencing joint pain in my fingers, wrists, and knees. The pain is often achy and throbbing, and it gets worse when I move my joints.</td>\n",
       "      <td>148</td>\n",
       "      <td>35</td>\n",
       "    </tr>\n",
       "    <tr>\n",
       "      <th>3</th>\n",
       "      <td>Psoriasis</td>\n",
       "      <td>There is a silver like dusting on my skin, especially on my lower back and scalp. This dusting is made up of small scales that flake off easily when I scratch them.</td>\n",
       "      <td>164</td>\n",
       "      <td>38</td>\n",
       "    </tr>\n",
       "    <tr>\n",
       "      <th>4</th>\n",
       "      <td>Psoriasis</td>\n",
       "      <td>My nails have small dents or pits in them, and they often feel inflammatory and tender to the touch. Even there are minor rashes on my arms.</td>\n",
       "      <td>140</td>\n",
       "      <td>32</td>\n",
       "    </tr>\n",
       "  </tbody>\n",
       "</table>\n",
       "</div>"
      ],
      "text/plain": [
       "       label  \\\n",
       "0  Psoriasis   \n",
       "1  Psoriasis   \n",
       "2  Psoriasis   \n",
       "3  Psoriasis   \n",
       "4  Psoriasis   \n",
       "\n",
       "                                                                                                                                                                   text  \\\n",
       "0                         I have been experiencing a skin rash on my arms, legs, and torso for the past few weeks. It is red, itchy, and covered in dry, scaly patches.   \n",
       "1                            My skin has been peeling, especially on my knees, elbows, and scalp. This peeling is often accompanied by a burning or stinging sensation.   \n",
       "2                  I have been experiencing joint pain in my fingers, wrists, and knees. The pain is often achy and throbbing, and it gets worse when I move my joints.   \n",
       "3  There is a silver like dusting on my skin, especially on my lower back and scalp. This dusting is made up of small scales that flake off easily when I scratch them.   \n",
       "4                          My nails have small dents or pits in them, and they often feel inflammatory and tender to the touch. Even there are minor rashes on my arms.   \n",
       "\n",
       "   text_characters  text_token_count  \n",
       "0              141                37  \n",
       "1              138                31  \n",
       "2              148                35  \n",
       "3              164                38  \n",
       "4              140                32  "
      ]
     },
     "execution_count": 38,
     "metadata": {},
     "output_type": "execute_result"
    }
   ],
   "source": [
    "# Count characters in Plot column\n",
    "df['text_characters'] = df['text'].apply(len)\n",
    "# Count tokens in Plot Column\n",
    "df['text_token_count'] = df['text'].apply(lambda plot: len(encoding.encode(plot)))\n",
    "df.head()"
   ]
  },
  {
   "cell_type": "code",
   "execution_count": 39,
   "id": "a8032225-20ce-451d-9cae-e649c538db42",
   "metadata": {},
   "outputs": [
    {
     "data": {
      "text/plain": [
       "69"
      ]
     },
     "execution_count": 39,
     "metadata": {},
     "output_type": "execute_result"
    }
   ],
   "source": [
    "max(df['text_token_count'])"
   ]
  },
  {
   "cell_type": "code",
   "execution_count": 34,
   "id": "6835bc11-53e1-458e-907c-43d7830ed8e0",
   "metadata": {},
   "outputs": [
    {
     "data": {
      "text/plain": [
       "label\n",
       "Bronchial Asthma                   50\n",
       "Common Cold                        50\n",
       "Migraine                           50\n",
       "Pneumonia                          50\n",
       "Typhoid                            50\n",
       "Fungal infection                   50\n",
       "Dengue                             50\n",
       "Dimorphic Hemorrhoids              50\n",
       "Varicose Veins                     50\n",
       "Impetigo                           50\n",
       "Chicken pox                        50\n",
       "Malaria                            50\n",
       "Hypertension                       50\n",
       "urinary tract infection            50\n",
       "Psoriasis                          50\n",
       "Jaundice                           50\n",
       "drug reaction                      50\n",
       "Cervical spondylosis               50\n",
       "Arthritis                          50\n",
       "Acne                               50\n",
       "allergy                            50\n",
       "gastroesophageal reflux disease    50\n",
       "peptic ulcer disease               50\n",
       "diabetes                           50\n",
       "Name: count, dtype: Int64"
      ]
     },
     "execution_count": 34,
     "metadata": {},
     "output_type": "execute_result"
    }
   ],
   "source": [
    "df.label.value_counts()"
   ]
  },
  {
   "cell_type": "code",
   "execution_count": 12,
   "id": "4b8e150d-f120-41b1-8de3-8ce7b38e5186",
   "metadata": {},
   "outputs": [
    {
     "data": {
      "text/html": [
       "<div>\n",
       "<style scoped>\n",
       "    .dataframe tbody tr th:only-of-type {\n",
       "        vertical-align: middle;\n",
       "    }\n",
       "\n",
       "    .dataframe tbody tr th {\n",
       "        vertical-align: top;\n",
       "    }\n",
       "\n",
       "    .dataframe thead th {\n",
       "        text-align: right;\n",
       "    }\n",
       "</style>\n",
       "<table border=\"1\" class=\"dataframe\">\n",
       "  <thead>\n",
       "    <tr style=\"text-align: right;\">\n",
       "      <th></th>\n",
       "      <th>label</th>\n",
       "      <th>text</th>\n",
       "      <th>text_characters</th>\n",
       "      <th>text_token_count</th>\n",
       "    </tr>\n",
       "  </thead>\n",
       "  <tbody>\n",
       "    <tr>\n",
       "      <th>18</th>\n",
       "      <td>Bronchial Asthma</td>\n",
       "      <td>I've had this cough that's been lingering for ...</td>\n",
       "      <td>302</td>\n",
       "      <td>69</td>\n",
       "    </tr>\n",
       "    <tr>\n",
       "      <th>19</th>\n",
       "      <td>Bronchial Asthma</td>\n",
       "      <td>I've had a persistent cough for days, and I al...</td>\n",
       "      <td>278</td>\n",
       "      <td>65</td>\n",
       "    </tr>\n",
       "    <tr>\n",
       "      <th>32</th>\n",
       "      <td>Bronchial Asthma</td>\n",
       "      <td>must confess that I've been experiencing shor...</td>\n",
       "      <td>283</td>\n",
       "      <td>65</td>\n",
       "    </tr>\n",
       "    <tr>\n",
       "      <th>69</th>\n",
       "      <td>Common Cold</td>\n",
       "      <td>My eyes are always red and itchy, and my nose ...</td>\n",
       "      <td>264</td>\n",
       "      <td>65</td>\n",
       "    </tr>\n",
       "    <tr>\n",
       "      <th>70</th>\n",
       "      <td>Common Cold</td>\n",
       "      <td>My nose always feels stuffy and congested, and...</td>\n",
       "      <td>257</td>\n",
       "      <td>64</td>\n",
       "    </tr>\n",
       "  </tbody>\n",
       "</table>\n",
       "</div>"
      ],
      "text/plain": [
       "               label                                               text  \\\n",
       "18  Bronchial Asthma  I've had this cough that's been lingering for ...   \n",
       "19  Bronchial Asthma  I've had a persistent cough for days, and I al...   \n",
       "32  Bronchial Asthma   must confess that I've been experiencing shor...   \n",
       "69       Common Cold  My eyes are always red and itchy, and my nose ...   \n",
       "70       Common Cold  My nose always feels stuffy and congested, and...   \n",
       "\n",
       "    text_characters  text_token_count  \n",
       "18              302                69  \n",
       "19              278                65  \n",
       "32              283                65  \n",
       "69              264                65  \n",
       "70              257                64  "
      ]
     },
     "execution_count": 12,
     "metadata": {},
     "output_type": "execute_result"
    }
   ],
   "source": [
    "df = df.query('text_token_count <= 4000') # just in case, not necessary with this set\n",
    "df.sort_values(by = ['text_token_count'], ascending = False, inplace=True)\n",
    "df.head()"
   ]
  },
  {
   "cell_type": "code",
   "execution_count": 40,
   "id": "4c603550-3184-4fce-826d-55501d795e0d",
   "metadata": {},
   "outputs": [
    {
     "name": "stdout",
     "output_type": "stream",
     "text": [
      "Patient Description\n",
      "============\n",
      "I've been feeling really sick with a high fever, shortness of breath, sweating, chills, and extreme fatigue. My heart rate is rapid, and I've been coughing up a lot of brownish sputum.\n",
      "\n",
      "\n",
      "LLM Summary\n",
      "============\n",
      "Severe respiratory illness, haziar answe\n",
      "\n",
      "\n",
      "Actual Label\n",
      "============\n",
      "Pneumonia\n",
      "\n",
      "\n",
      "Predicted Diagnosis\n",
      "============\n",
      "I'm not a doctor, but based on the symptoms you mentioned, this person could potentially have a respiratory infection such as bronchitis or pneumonia. The presence of a high fever, shortness of breath, sweating, chills, and fatigue may indicate a significant illness. The coughing up of brownish sputum may suggest the presence of blood or other concerning factors, which warrants immediate medical attention. It is essential for this person to consult a healthcare professional for an accurate diagnosis and appropriate treatment.\n"
     ]
    }
   ],
   "source": [
    "sample = df.sample(n=1).iloc[0,:]\n",
    "\n",
    "summary = openai.ChatCompletion.create(model = MODEL, \n",
    "                                      messages = [{'role':'user', \n",
    "                                                   'content': \"using 4 words or less please summarize these symptoms: {}\".format(sample.text)\n",
    "                                                  }])\n",
    "\n",
    "predicted_diag = openai.ChatCompletion.create(model = MODEL, \n",
    "                                      messages = [{'role':'user', \n",
    "                                                   'content': \"what's your best guess at this person's condition?: {}\".format(sample.text)\n",
    "                                                  }])\n",
    "\n",
    "print(\"Patient Description\\n============\\n{}\".format(sample.text))\n",
    "print(\"\\n\\nLLM Summary\\n============\\n{}\".format(summary.choices[0].message.content))\n",
    "print(\"\\n\\nActual Label\\n============\\n{}\".format(sample.label))\n",
    "print(\"\\n\\nPredicted Diagnosis\\n============\\n{}\".format(predicted_diag.choices[0].message.content))"
   ]
  },
  {
   "cell_type": "code",
   "execution_count": null,
   "id": "5f2517b1-4f00-41d4-9f7c-da07ca63ee44",
   "metadata": {},
   "outputs": [],
   "source": []
  }
 ],
 "metadata": {
  "kernelspec": {
   "display_name": "Python 3 (ipykernel)",
   "language": "python",
   "name": "python3"
  },
  "language_info": {
   "codemirror_mode": {
    "name": "ipython",
    "version": 3
   },
   "file_extension": ".py",
   "mimetype": "text/x-python",
   "name": "python",
   "nbconvert_exporter": "python",
   "pygments_lexer": "ipython3",
   "version": "3.9.6"
  }
 },
 "nbformat": 4,
 "nbformat_minor": 5
}
